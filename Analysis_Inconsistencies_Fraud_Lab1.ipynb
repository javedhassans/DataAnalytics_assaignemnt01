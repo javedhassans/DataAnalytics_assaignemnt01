{
 "cells": [
  {
   "cell_type": "code",
   "execution_count": null,
   "metadata": {
    "colab": {},
    "colab_type": "code",
    "id": "sSDHP5z4etR-"
   },
   "outputs": [],
   "source": [
    "import os\n",
    "os.chdir(\"/Users/fabiotejedor/Downloads\")"
   ]
  },
  {
   "cell_type": "code",
   "execution_count": null,
   "metadata": {
    "colab": {},
    "colab_type": "code",
    "id": "ty13DYsMetSC"
   },
   "outputs": [],
   "source": [
    "import pandas as pd\n",
    "db_transactions = pd.read_csv(\"transactions.csv\")\n",
    "db_transactions.head(20)\n",
    "import matplotlib.pyplot as plt\n",
    "import seaborn as sn"
   ]
  },
  {
   "cell_type": "code",
   "execution_count": null,
   "metadata": {
    "colab": {},
    "colab_type": "code",
    "id": "i3nUv7MHetSF",
    "outputId": "101c8e41-1446-4b74-a5e8-37af8827f476"
   },
   "outputs": [
    {
     "data": {
      "text/plain": [
       "False"
      ]
     },
     "execution_count": 293,
     "metadata": {
      "tags": []
     },
     "output_type": "execute_result"
    }
   ],
   "source": [
    "db_transactions.isnull().values.any()"
   ]
  },
  {
   "cell_type": "code",
   "execution_count": null,
   "metadata": {
    "colab": {},
    "colab_type": "code",
    "id": "3pU2Ph5DetSI",
    "outputId": "097fc163-12e9-4622-c7e2-5af67c6d9f97"
   },
   "outputs": [
    {
     "data": {
      "text/html": [
       "<div>\n",
       "<style scoped>\n",
       "    .dataframe tbody tr th:only-of-type {\n",
       "        vertical-align: middle;\n",
       "    }\n",
       "\n",
       "    .dataframe tbody tr th {\n",
       "        vertical-align: top;\n",
       "    }\n",
       "\n",
       "    .dataframe thead th {\n",
       "        text-align: right;\n",
       "    }\n",
       "</style>\n",
       "<table border=\"1\" class=\"dataframe\">\n",
       "  <thead>\n",
       "    <tr style=\"text-align: right;\">\n",
       "      <th></th>\n",
       "      <th>timestamp</th>\n",
       "      <th>amount</th>\n",
       "      <th>oldbalanceOrig</th>\n",
       "      <th>newbalanceOrig</th>\n",
       "      <th>oldbalanceDest</th>\n",
       "      <th>newbalanceDest</th>\n",
       "    </tr>\n",
       "  </thead>\n",
       "  <tbody>\n",
       "    <tr>\n",
       "      <th>count</th>\n",
       "      <td>7.734834e+06</td>\n",
       "      <td>7.734834e+06</td>\n",
       "      <td>7.734834e+06</td>\n",
       "      <td>7.734834e+06</td>\n",
       "      <td>7.734834e+06</td>\n",
       "      <td>7.734834e+06</td>\n",
       "    </tr>\n",
       "    <tr>\n",
       "      <th>mean</th>\n",
       "      <td>2.434319e+02</td>\n",
       "      <td>1.479531e+05</td>\n",
       "      <td>8.339802e+05</td>\n",
       "      <td>6.860270e+05</td>\n",
       "      <td>1.297193e+06</td>\n",
       "      <td>1.445146e+06</td>\n",
       "    </tr>\n",
       "    <tr>\n",
       "      <th>std</th>\n",
       "      <td>1.423561e+02</td>\n",
       "      <td>5.519739e+05</td>\n",
       "      <td>2.890095e+06</td>\n",
       "      <td>2.943681e+06</td>\n",
       "      <td>3.441619e+06</td>\n",
       "      <td>3.647220e+06</td>\n",
       "    </tr>\n",
       "    <tr>\n",
       "      <th>min</th>\n",
       "      <td>1.000000e+00</td>\n",
       "      <td>0.000000e+00</td>\n",
       "      <td>-4.621192e+07</td>\n",
       "      <td>-9.244552e+07</td>\n",
       "      <td>-4.366623e+06</td>\n",
       "      <td>-4.234680e+06</td>\n",
       "    </tr>\n",
       "    <tr>\n",
       "      <th>25%</th>\n",
       "      <td>1.560000e+02</td>\n",
       "      <td>3.954593e+03</td>\n",
       "      <td>0.000000e+00</td>\n",
       "      <td>-1.072120e+05</td>\n",
       "      <td>0.000000e+00</td>\n",
       "      <td>8.961312e+03</td>\n",
       "    </tr>\n",
       "    <tr>\n",
       "      <th>50%</th>\n",
       "      <td>2.390000e+02</td>\n",
       "      <td>3.424565e+04</td>\n",
       "      <td>1.416400e+04</td>\n",
       "      <td>-2.773930e+03</td>\n",
       "      <td>1.330728e+04</td>\n",
       "      <td>1.830557e+05</td>\n",
       "    </tr>\n",
       "    <tr>\n",
       "      <th>75%</th>\n",
       "      <td>3.350000e+02</td>\n",
       "      <td>1.744628e+05</td>\n",
       "      <td>1.073520e+05</td>\n",
       "      <td>6.296063e+04</td>\n",
       "      <td>1.277121e+06</td>\n",
       "      <td>1.514394e+06</td>\n",
       "    </tr>\n",
       "    <tr>\n",
       "      <th>max</th>\n",
       "      <td>7.430000e+02</td>\n",
       "      <td>9.244552e+07</td>\n",
       "      <td>7.743097e+07</td>\n",
       "      <td>7.742894e+07</td>\n",
       "      <td>3.572774e+08</td>\n",
       "      <td>3.574408e+08</td>\n",
       "    </tr>\n",
       "  </tbody>\n",
       "</table>\n",
       "</div>"
      ],
      "text/plain": [
       "          timestamp        amount  oldbalanceOrig  newbalanceOrig  \\\n",
       "count  7.734834e+06  7.734834e+06    7.734834e+06    7.734834e+06   \n",
       "mean   2.434319e+02  1.479531e+05    8.339802e+05    6.860270e+05   \n",
       "std    1.423561e+02  5.519739e+05    2.890095e+06    2.943681e+06   \n",
       "min    1.000000e+00  0.000000e+00   -4.621192e+07   -9.244552e+07   \n",
       "25%    1.560000e+02  3.954593e+03    0.000000e+00   -1.072120e+05   \n",
       "50%    2.390000e+02  3.424565e+04    1.416400e+04   -2.773930e+03   \n",
       "75%    3.350000e+02  1.744628e+05    1.073520e+05    6.296063e+04   \n",
       "max    7.430000e+02  9.244552e+07    7.743097e+07    7.742894e+07   \n",
       "\n",
       "       oldbalanceDest  newbalanceDest  \n",
       "count    7.734834e+06    7.734834e+06  \n",
       "mean     1.297193e+06    1.445146e+06  \n",
       "std      3.441619e+06    3.647220e+06  \n",
       "min     -4.366623e+06   -4.234680e+06  \n",
       "25%      0.000000e+00    8.961312e+03  \n",
       "50%      1.330728e+04    1.830557e+05  \n",
       "75%      1.277121e+06    1.514394e+06  \n",
       "max      3.572774e+08    3.574408e+08  "
      ]
     },
     "execution_count": 294,
     "metadata": {
      "tags": []
     },
     "output_type": "execute_result"
    }
   ],
   "source": [
    "db_transactions.describe()"
   ]
  },
  {
   "cell_type": "code",
   "execution_count": null,
   "metadata": {
    "colab": {},
    "colab_type": "code",
    "id": "63klK9R3etSL",
    "outputId": "8780af12-720c-452e-c634-fd9218b213f0"
   },
   "outputs": [
    {
     "name": "stdout",
     "output_type": "stream",
     "text": [
      "743\n",
      "1\n",
      "6353308\n",
      "2722364\n"
     ]
    }
   ],
   "source": [
    "print(db_transactions[\"timestamp\"].unique().size)\n",
    "print(db_transactions[\"type\"].unique().size)\n",
    "print(db_transactions[\"nameOrig\"].unique().size )\n",
    "print(db_transactions[\"nameDest\"].unique().size)"
   ]
  },
  {
   "cell_type": "code",
   "execution_count": null,
   "metadata": {
    "colab": {},
    "colab_type": "code",
    "id": "WdhXkljIetSN",
    "outputId": "43c0d441-af11-4e7a-f9e4-bfc77b6c342f"
   },
   "outputs": [
    {
     "name": "stdout",
     "output_type": "stream",
     "text": [
      "-46211920.92\n",
      "-92445516.64\n",
      "-4366622.92\n",
      "-4234680.13\n"
     ]
    }
   ],
   "source": [
    "print(db_transactions[\"oldbalanceOrig\"].min())\n",
    "print(db_transactions[\"newbalanceOrig\"].min())\n",
    "print(db_transactions[\"oldbalanceDest\"].min())\n",
    "print(db_transactions[\"newbalanceDest\"].min())"
   ]
  },
  {
   "cell_type": "code",
   "execution_count": null,
   "metadata": {
    "colab": {},
    "colab_type": "code",
    "id": "xcylA3IyetSQ",
    "outputId": "d71bd0a9-148a-4ab0-9cfc-035ac98c05b8"
   },
   "outputs": [
    {
     "name": "stdout",
     "output_type": "stream",
     "text": [
      "Negative Values for oldbalanceOrig: 5964\n",
      "Negative Values for newbalanceOrig: 3397193\n",
      "Negative Values for oldbalanceDest: 813\n",
      "Negative Values for newbalanceDest: 399\n"
     ]
    }
   ],
   "source": [
    "varNum = [\"oldbalanceOrig\", \"newbalanceOrig\", \"oldbalanceDest\", \"newbalanceDest\"]\n",
    "for ii in range(len(varNum)):\n",
    "    print(\"Negative Values for \" + varNum[ii]+ \": \" + str(sum(db_transactions[varNum[ii]]< -10000)))\n"
   ]
  },
  {
   "cell_type": "code",
   "execution_count": null,
   "metadata": {
    "colab": {},
    "colab_type": "code",
    "id": "CmQqJxjEetST",
    "outputId": "0db701fc-c7ab-4460-ffc0-f65e5c315b54"
   },
   "outputs": [
    {
     "data": {
      "text/plain": [
       "2552249"
      ]
     },
     "execution_count": 55,
     "metadata": {
      "tags": []
     },
     "output_type": "execute_result"
    }
   ],
   "source": [
    "sum(db_transactions[\"oldbalanceOrig\"] == 0)"
   ]
  },
  {
   "cell_type": "code",
   "execution_count": null,
   "metadata": {
    "colab": {},
    "colab_type": "code",
    "id": "l8-JXx7hetSV"
   },
   "outputs": [],
   "source": [
    "db_minOrig = db_transactions.head().groupby(\"nameOrig\").min()\n",
    "db_minOrig.head()"
   ]
  },
  {
   "cell_type": "markdown",
   "metadata": {
    "colab_type": "text",
    "id": "uArll4O7etSX"
   },
   "source": [
    "### Description and inconsistencies "
   ]
  },
  {
   "cell_type": "markdown",
   "metadata": {
    "colab_type": "text",
    "id": "axr2LwZAetSY"
   },
   "source": [
    "Description of each variables "
   ]
  },
  {
   "cell_type": "code",
   "execution_count": null,
   "metadata": {
    "colab": {},
    "colab_type": "code",
    "id": "kQjhvIxgetSZ"
   },
   "outputs": [],
   "source": [
    "df = db_transactions\n",
    "df[\"amountOrig\"] =  round(abs(df['oldbalanceOrig'] - df['newbalanceOrig']), 2)\n",
    "df[\"amountDest\"] =  round(abs(df['oldbalanceDest'] - df['newbalanceDest']), 2)\n",
    "df[\"difamountAmOr\"] = round(df[\"amount\"] - df[\"amountOrig\"],3)\n",
    "df[\"difamountDesOr\"] = round(df[\"amount\"] - df[\"amountDest\"], 3)\n",
    "df[\"difamountOD\"] = round(df[\"amountOrig\"] - df[\"amountDest\"], 3)\n",
    "df = pd.DataFrame(df)"
   ]
  },
  {
   "cell_type": "markdown",
   "metadata": {
    "colab_type": "text",
    "id": "VwsWDzazetSb"
   },
   "source": [
    "1- Checking if there are inconsistencies between the \"amount\" and the variables Origin, Destination "
   ]
  },
  {
   "cell_type": "code",
   "execution_count": null,
   "metadata": {
    "colab": {},
    "colab_type": "code",
    "id": "V8JiyPPHetSc",
    "outputId": "7b588094-33fe-4efc-d77d-89f46c8c051d"
   },
   "outputs": [
    {
     "name": "stdout",
     "output_type": "stream",
     "text": [
      "       difamountAmOr\n",
      " 0.00      87.037227\n",
      "-0.01      12.953025\n",
      " 0.01       0.009748\n",
      "       difamountDesOr\n",
      " 0.00       65.372534\n",
      " 0.01       30.863778\n",
      "-0.01        2.575724\n",
      " 0.02        1.187951\n",
      "-0.02        0.000013\n"
     ]
    }
   ],
   "source": [
    "print(pd.DataFrame(pd.value_counts(df.difamountAmOr, normalize = True))*100)\n",
    "print(pd.DataFrame(pd.value_counts(df.difamountDesOr, normalize = True))*100)"
   ]
  },
  {
   "cell_type": "code",
   "execution_count": null,
   "metadata": {
    "colab": {},
    "colab_type": "code",
    "id": "4z7V7sWeetSe",
    "outputId": "43ba69bf-039d-4527-8a13-0bfeecd7511c"
   },
   "outputs": [
    {
     "data": {
      "image/png": "[encoded data removed]",
      "text/plain": [
       "<Figure size 432x432 with 3 Axes>"
      ]
     },
     "metadata": {
      "needs_background": "light",
      "tags": []
     },
     "output_type": "display_data"
    }
   ],
   "source": [
    "g = sns.jointplot(x='timestamp',y='difamountAmOr',data=df[df[\"difamountAmOr\"] != 0], kind='scatter')\n",
    "g.fig.suptitle(\"Comparison Amount and Origin Balance\")\n",
    "plt.savefig(\"Comparison_Amount_Origin.png\")"
   ]
  },
  {
   "cell_type": "code",
   "execution_count": null,
   "metadata": {
    "colab": {},
    "colab_type": "code",
    "id": "LeFz-oMHetSh",
    "outputId": "fa37595e-9be2-4be0-8715-8653e29f8ef6"
   },
   "outputs": [
    {
     "data": {
      "image/png": "[encoded data removed]",
      "text/plain": [
       "<Figure size 432x432 with 3 Axes>"
      ]
     },
     "metadata": {
      "needs_background": "light",
      "tags": []
     },
     "output_type": "display_data"
    }
   ],
   "source": [
    "d = sns.jointplot(x='timestamp',y='difamountDesOr',data=df[df[\"difamountDesOr\"] != 0], kind='scatter')\n",
    "d.fig.suptitle(\"Comparison Amount and Destination Balance\")\n",
    "plt.savefig(\"Comparison_Amount_Destination.png\")"
   ]
  },
  {
   "cell_type": "markdown",
   "metadata": {
    "colab_type": "text",
    "id": "OBLuqJosetSj"
   },
   "source": [
    "### Fraud detection"
   ]
  },
  {
   "cell_type": "code",
   "execution_count": null,
   "metadata": {
    "colab": {},
    "colab_type": "code",
    "id": "beahGnXSetSk"
   },
   "outputs": [],
   "source": [
    "df[\"amountOrig\"] =  round(abs(df['oldbalanceOrig'] - df['newbalanceOrig']), 2)\n",
    "df[\"difamountOrig\"] = abs(df['amountOrig'] - round(df['amount'], 2))\n",
    "vvv = df['amountOrig'] == round(df['amount'], 2)"
   ]
  },
  {
   "cell_type": "code",
   "execution_count": null,
   "metadata": {
    "colab": {},
    "colab_type": "code",
    "id": "sPyYrdm1etSn",
    "outputId": "351e11db-023b-4e8f-d6e2-f9836e3d92d4"
   },
   "outputs": [
    {
     "data": {
      "text/plain": [
       "(1002649, 15)"
      ]
     },
     "execution_count": 313,
     "metadata": {
      "tags": []
     },
     "output_type": "execute_result"
    }
   ],
   "source": [
    "vvv.value_counts()\n",
    "df_Orig1 = df.loc[~vvv]\n",
    "df_Orig1.head()\n",
    "df_Orig1.shape"
   ]
  },
  {
   "cell_type": "code",
   "execution_count": null,
   "metadata": {
    "colab": {},
    "colab_type": "code",
    "id": "YfmhdrWFetSp",
    "outputId": "ba3f228d-c8b7-4c94-8655-3e969b01ffa5"
   },
   "outputs": [
    {
     "data": {
      "text/plain": [
       "(1001899, 1)"
      ]
     },
     "execution_count": 100,
     "metadata": {
      "tags": []
     },
     "output_type": "execute_result"
    }
   ],
   "source": [
    "ddd = df_Orig1[\"nameOrig\"].to_frame()\n",
    "ddd[\"nameOrig\"].value_counts().to_frame().shape"
   ]
  },
  {
   "cell_type": "code",
   "execution_count": null,
   "metadata": {
    "colab": {},
    "colab_type": "code",
    "id": "imAwzXzKetSr",
    "outputId": "63dbef93-ffe1-476c-d8c2-ca448e1cfebe"
   },
   "outputs": [
    {
     "name": "stderr",
     "output_type": "stream",
     "text": [
      "/Users/fabiotejedor/anaconda3/lib/python3.7/site-packages/ipykernel_launcher.py:3: SettingWithCopyWarning: \n",
      "A value is trying to be set on a copy of a slice from a DataFrame.\n",
      "Try using .loc[row_indexer,col_indexer] = value instead\n",
      "\n",
      "See the caveats in the documentation: http://pandas.pydata.org/pandas-docs/stable/indexing.html#indexing-view-versus-copy\n",
      "  This is separate from the ipykernel package so we can avoid doing imports until\n"
     ]
    }
   ],
   "source": [
    "df[\"difamountOD\"] = df[\"amountOrig\"] - df[\"amountDest\"]\n",
    "inconsistent = df[df[\"difamountOD\"] != 0]\n",
    "inconsistent[\"difamountOD\"] = round(inconsistent[\"difamountOD\"], 3)"
   ]
  },
  {
   "cell_type": "code",
   "execution_count": null,
   "metadata": {
    "colab": {},
    "colab_type": "code",
    "id": "1LpM_WFAetSt",
    "outputId": "d4fc3de6-e249-486d-b559-b1c638213178"
   },
   "outputs": [
    {
     "name": "stdout",
     "output_type": "stream",
     "text": [
      "For:0.01 (2378453, 15)\n",
      "For:0.02 (597109, 15)\n",
      "For:-0.01 (199700, 15)\n",
      "For:-0.02 (28, 15)\n",
      "For:0.03 (10, 15)\n"
     ]
    }
   ],
   "source": [
    "ddd = inconsistent[\"difamountOD\"].unique()\n",
    "for ii in range(len(ddd)):\n",
    "    jjj = inconsistent.loc[inconsistent[\"difamountOD\"] == ddd[ii]]\n",
    "    print(\"For:\" + str(ddd[ii]) + \" \" + str(jjj.shape))"
   ]
  },
  {
   "cell_type": "code",
   "execution_count": null,
   "metadata": {
    "colab": {},
    "colab_type": "code",
    "id": "oVjbk1m3etSv",
    "outputId": "515cbdc9-f6ad-4f33-b1dc-11156d03cfc1"
   },
   "outputs": [
    {
     "data": {
      "text/plain": [
       "{'incon_0': 0.01,\n",
       " 'incon_1': 0.02,\n",
       " 'incon_2': -0.01,\n",
       " 'incon_3': -0.02,\n",
       " 'incon_4': 0.03}"
      ]
     },
     "execution_count": 317,
     "metadata": {
      "tags": []
     },
     "output_type": "execute_result"
    }
   ],
   "source": [
    "vect_Incon = dict(enumerate(ddd))\n",
    "for ii in range(len(vect_Incon)):\n",
    "    vect_Incon[\"incon_\" +  str(ii)] = vect_Incon.pop(ii)\n",
    "vect_Incon    "
   ]
  },
  {
   "cell_type": "markdown",
   "metadata": {
    "colab_type": "text",
    "id": "1qDv8fIJetSx"
   },
   "source": [
    "##### Inconsistencies for 0.01 "
   ]
  },
  {
   "cell_type": "code",
   "execution_count": null,
   "metadata": {
    "colab": {},
    "colab_type": "code",
    "id": "sa4kIXl4etSy",
    "outputId": "a32e67af-5ace-46a0-fb1c-5cf375d6f59e"
   },
   "outputs": [
    {
     "data": {
      "text/html": [
       "<div>\n",
       "<style scoped>\n",
       "    .dataframe tbody tr th:only-of-type {\n",
       "        vertical-align: middle;\n",
       "    }\n",
       "\n",
       "    .dataframe tbody tr th {\n",
       "        vertical-align: top;\n",
       "    }\n",
       "\n",
       "    .dataframe thead th {\n",
       "        text-align: right;\n",
       "    }\n",
       "</style>\n",
       "<table border=\"1\" class=\"dataframe\">\n",
       "  <thead>\n",
       "    <tr style=\"text-align: right;\">\n",
       "      <th></th>\n",
       "      <th>timestamp</th>\n",
       "      <th>type</th>\n",
       "      <th>amount</th>\n",
       "      <th>nameOrig</th>\n",
       "      <th>oldbalanceOrig</th>\n",
       "      <th>newbalanceOrig</th>\n",
       "      <th>nameDest</th>\n",
       "      <th>oldbalanceDest</th>\n",
       "      <th>newbalanceDest</th>\n",
       "      <th>amountOrig</th>\n",
       "      <th>amountDest</th>\n",
       "      <th>difamountAmOr</th>\n",
       "      <th>difamountDesOr</th>\n",
       "      <th>difamountOD</th>\n",
       "      <th>difamountOrig</th>\n",
       "    </tr>\n",
       "  </thead>\n",
       "  <tbody>\n",
       "    <tr>\n",
       "      <th>1</th>\n",
       "      <td>1</td>\n",
       "      <td>TRANSFER</td>\n",
       "      <td>9839.64</td>\n",
       "      <td>C1231006815</td>\n",
       "      <td>170136.00</td>\n",
       "      <td>160296.36</td>\n",
       "      <td>M1979787155</td>\n",
       "      <td>0.0</td>\n",
       "      <td>9839.63</td>\n",
       "      <td>9839.64</td>\n",
       "      <td>9839.63</td>\n",
       "      <td>0.00</td>\n",
       "      <td>0.01</td>\n",
       "      <td>0.01</td>\n",
       "      <td>0.00</td>\n",
       "    </tr>\n",
       "    <tr>\n",
       "      <th>5</th>\n",
       "      <td>1</td>\n",
       "      <td>TRANSFER</td>\n",
       "      <td>11668.14</td>\n",
       "      <td>C2048537720</td>\n",
       "      <td>41554.00</td>\n",
       "      <td>29885.85</td>\n",
       "      <td>M1230701703</td>\n",
       "      <td>0.0</td>\n",
       "      <td>11668.14</td>\n",
       "      <td>11668.15</td>\n",
       "      <td>11668.14</td>\n",
       "      <td>-0.01</td>\n",
       "      <td>0.00</td>\n",
       "      <td>0.01</td>\n",
       "      <td>0.01</td>\n",
       "    </tr>\n",
       "    <tr>\n",
       "      <th>7</th>\n",
       "      <td>1</td>\n",
       "      <td>TRANSFER</td>\n",
       "      <td>7817.71</td>\n",
       "      <td>C90045638</td>\n",
       "      <td>53860.00</td>\n",
       "      <td>46042.29</td>\n",
       "      <td>M573487274</td>\n",
       "      <td>0.0</td>\n",
       "      <td>7817.70</td>\n",
       "      <td>7817.71</td>\n",
       "      <td>7817.70</td>\n",
       "      <td>0.00</td>\n",
       "      <td>0.01</td>\n",
       "      <td>0.01</td>\n",
       "      <td>0.00</td>\n",
       "    </tr>\n",
       "    <tr>\n",
       "      <th>9</th>\n",
       "      <td>1</td>\n",
       "      <td>TRANSFER</td>\n",
       "      <td>7861.64</td>\n",
       "      <td>C1912850431</td>\n",
       "      <td>176087.23</td>\n",
       "      <td>168225.58</td>\n",
       "      <td>M633326333</td>\n",
       "      <td>0.0</td>\n",
       "      <td>7861.64</td>\n",
       "      <td>7861.65</td>\n",
       "      <td>7861.64</td>\n",
       "      <td>-0.01</td>\n",
       "      <td>0.00</td>\n",
       "      <td>0.01</td>\n",
       "      <td>0.01</td>\n",
       "    </tr>\n",
       "    <tr>\n",
       "      <th>14</th>\n",
       "      <td>1</td>\n",
       "      <td>TRANSFER</td>\n",
       "      <td>3099.97</td>\n",
       "      <td>C249177573</td>\n",
       "      <td>20771.00</td>\n",
       "      <td>17671.03</td>\n",
       "      <td>M2096539129</td>\n",
       "      <td>0.0</td>\n",
       "      <td>3099.96</td>\n",
       "      <td>3099.97</td>\n",
       "      <td>3099.96</td>\n",
       "      <td>0.00</td>\n",
       "      <td>0.01</td>\n",
       "      <td>0.01</td>\n",
       "      <td>0.00</td>\n",
       "    </tr>\n",
       "  </tbody>\n",
       "</table>\n",
       "</div>"
      ],
      "text/plain": [
       "    timestamp      type    amount     nameOrig  oldbalanceOrig  \\\n",
       "1           1  TRANSFER   9839.64  C1231006815       170136.00   \n",
       "5           1  TRANSFER  11668.14  C2048537720        41554.00   \n",
       "7           1  TRANSFER   7817.71    C90045638        53860.00   \n",
       "9           1  TRANSFER   7861.64  C1912850431       176087.23   \n",
       "14          1  TRANSFER   3099.97   C249177573        20771.00   \n",
       "\n",
       "    newbalanceOrig     nameDest  oldbalanceDest  newbalanceDest  amountOrig  \\\n",
       "1        160296.36  M1979787155             0.0         9839.63     9839.64   \n",
       "5         29885.85  M1230701703             0.0        11668.14    11668.15   \n",
       "7         46042.29   M573487274             0.0         7817.70     7817.71   \n",
       "9        168225.58   M633326333             0.0         7861.64     7861.65   \n",
       "14        17671.03  M2096539129             0.0         3099.96     3099.97   \n",
       "\n",
       "    amountDest  difamountAmOr  difamountDesOr  difamountOD  difamountOrig  \n",
       "1      9839.63           0.00            0.01         0.01           0.00  \n",
       "5     11668.14          -0.01            0.00         0.01           0.01  \n",
       "7      7817.70           0.00            0.01         0.01           0.00  \n",
       "9      7861.64          -0.01            0.00         0.01           0.01  \n",
       "14     3099.96           0.00            0.01         0.01           0.00  "
      ]
     },
     "execution_count": 318,
     "metadata": {
      "tags": []
     },
     "output_type": "execute_result"
    }
   ],
   "source": [
    "incon_0 = pd.DataFrame(inconsistent.loc[inconsistent[\"difamountOD\"] == vect_Incon['incon_0']])\n",
    "incon_0.head()"
   ]
  },
  {
   "cell_type": "markdown",
   "metadata": {
    "colab_type": "text",
    "id": "uqEVeYWMetS0"
   },
   "source": [
    "##### Analysis of inconsistencies-fraud for 0.01 for the Origin accounts"
   ]
  },
  {
   "cell_type": "code",
   "execution_count": null,
   "metadata": {
    "colab": {},
    "colab_type": "code",
    "id": "UoHA3MC7etS1",
    "outputId": "5b5f482c-347a-4f2d-cff4-2542ffd0b89b"
   },
   "outputs": [
    {
     "data": {
      "text/html": [
       "<div>\n",
       "<style scoped>\n",
       "    .dataframe tbody tr th:only-of-type {\n",
       "        vertical-align: middle;\n",
       "    }\n",
       "\n",
       "    .dataframe tbody tr th {\n",
       "        vertical-align: top;\n",
       "    }\n",
       "\n",
       "    .dataframe thead th {\n",
       "        text-align: right;\n",
       "    }\n",
       "</style>\n",
       "<table border=\"1\" class=\"dataframe\">\n",
       "  <thead>\n",
       "    <tr style=\"text-align: right;\">\n",
       "      <th></th>\n",
       "      <th>nameOrig</th>\n",
       "    </tr>\n",
       "  </thead>\n",
       "  <tbody>\n",
       "    <tr>\n",
       "      <th>C42793961</th>\n",
       "      <td>3</td>\n",
       "    </tr>\n",
       "    <tr>\n",
       "      <th>C1423839117</th>\n",
       "      <td>3</td>\n",
       "    </tr>\n",
       "    <tr>\n",
       "      <th>C1211546113</th>\n",
       "      <td>3</td>\n",
       "    </tr>\n",
       "    <tr>\n",
       "      <th>C2038644922</th>\n",
       "      <td>3</td>\n",
       "    </tr>\n",
       "    <tr>\n",
       "      <th>C1288720668</th>\n",
       "      <td>3</td>\n",
       "    </tr>\n",
       "  </tbody>\n",
       "</table>\n",
       "</div>"
      ],
      "text/plain": [
       "             nameOrig\n",
       "C42793961           3\n",
       "C1423839117         3\n",
       "C1211546113         3\n",
       "C2038644922         3\n",
       "C1288720668         3"
      ]
     },
     "execution_count": 319,
     "metadata": {
      "tags": []
     },
     "output_type": "execute_result"
    }
   ],
   "source": [
    "lll = pd.DataFrame(pd.value_counts(incon_0.nameOrig))\n",
    "lllOrig = lll.sort_values(\"nameOrig\", ascending=False)\n",
    "lllOrig.head()"
   ]
  },
  {
   "cell_type": "code",
   "execution_count": null,
   "metadata": {
    "colab": {},
    "colab_type": "code",
    "id": "zOeNeIX7etS3",
    "outputId": "1ff2e3af-7b54-414f-9c34-58fab9d97e10"
   },
   "outputs": [
    {
     "name": "stdout",
     "output_type": "stream",
     "text": [
      "           nameOrig\n",
      "count  2.377016e+06\n",
      "mean   1.000605e+00\n",
      "std    2.540477e-02\n",
      "min    1.000000e+00\n",
      "25%    1.000000e+00\n",
      "50%    1.000000e+00\n",
      "75%    1.000000e+00\n",
      "max    3.000000e+00\n"
     ]
    },
    {
     "data": {
      "text/html": [
       "<div>\n",
       "<style scoped>\n",
       "    .dataframe tbody tr th:only-of-type {\n",
       "        vertical-align: middle;\n",
       "    }\n",
       "\n",
       "    .dataframe tbody tr th {\n",
       "        vertical-align: top;\n",
       "    }\n",
       "\n",
       "    .dataframe thead th {\n",
       "        text-align: right;\n",
       "    }\n",
       "</style>\n",
       "<table border=\"1\" class=\"dataframe\">\n",
       "  <thead>\n",
       "    <tr style=\"text-align: right;\">\n",
       "      <th></th>\n",
       "      <th>timestamp</th>\n",
       "      <th>type</th>\n",
       "      <th>amount</th>\n",
       "      <th>nameOrig</th>\n",
       "      <th>oldbalanceOrig</th>\n",
       "      <th>newbalanceOrig</th>\n",
       "      <th>nameDest</th>\n",
       "      <th>oldbalanceDest</th>\n",
       "      <th>newbalanceDest</th>\n",
       "      <th>amountOrig</th>\n",
       "      <th>amountDest</th>\n",
       "      <th>difamountAmOr</th>\n",
       "      <th>difamountDesOr</th>\n",
       "      <th>difamountOD</th>\n",
       "      <th>difamountOrig</th>\n",
       "    </tr>\n",
       "  </thead>\n",
       "  <tbody>\n",
       "    <tr>\n",
       "      <th>1789481</th>\n",
       "      <td>141</td>\n",
       "      <td>TRANSFER</td>\n",
       "      <td>425581.55</td>\n",
       "      <td>C1697697307</td>\n",
       "      <td>0.00</td>\n",
       "      <td>-425581.55</td>\n",
       "      <td>C1639805485</td>\n",
       "      <td>2078550.64</td>\n",
       "      <td>2504132.18</td>\n",
       "      <td>425581.55</td>\n",
       "      <td>425581.54</td>\n",
       "      <td>0.00</td>\n",
       "      <td>0.01</td>\n",
       "      <td>0.01</td>\n",
       "      <td>0.00</td>\n",
       "    </tr>\n",
       "    <tr>\n",
       "      <th>6776980</th>\n",
       "      <td>393</td>\n",
       "      <td>TRANSFER</td>\n",
       "      <td>0.01</td>\n",
       "      <td>C1697697307</td>\n",
       "      <td>-425581.55</td>\n",
       "      <td>-425581.57</td>\n",
       "      <td>C52983754</td>\n",
       "      <td>12020.12</td>\n",
       "      <td>12020.13</td>\n",
       "      <td>0.02</td>\n",
       "      <td>0.01</td>\n",
       "      <td>-0.01</td>\n",
       "      <td>0.00</td>\n",
       "      <td>0.01</td>\n",
       "      <td>0.01</td>\n",
       "    </tr>\n",
       "    <tr>\n",
       "      <th>6776981</th>\n",
       "      <td>393</td>\n",
       "      <td>TRANSFER</td>\n",
       "      <td>485992.17</td>\n",
       "      <td>C1697697307</td>\n",
       "      <td>-425581.55</td>\n",
       "      <td>-911573.72</td>\n",
       "      <td>C1384599017</td>\n",
       "      <td>497643.51</td>\n",
       "      <td>983635.67</td>\n",
       "      <td>485992.17</td>\n",
       "      <td>485992.16</td>\n",
       "      <td>0.00</td>\n",
       "      <td>0.01</td>\n",
       "      <td>0.01</td>\n",
       "      <td>0.00</td>\n",
       "    </tr>\n",
       "  </tbody>\n",
       "</table>\n",
       "</div>"
      ],
      "text/plain": [
       "         timestamp      type     amount     nameOrig  oldbalanceOrig  \\\n",
       "1789481        141  TRANSFER  425581.55  C1697697307            0.00   \n",
       "6776980        393  TRANSFER       0.01  C1697697307      -425581.55   \n",
       "6776981        393  TRANSFER  485992.17  C1697697307      -425581.55   \n",
       "\n",
       "         newbalanceOrig     nameDest  oldbalanceDest  newbalanceDest  \\\n",
       "1789481      -425581.55  C1639805485      2078550.64      2504132.18   \n",
       "6776980      -425581.57    C52983754        12020.12        12020.13   \n",
       "6776981      -911573.72  C1384599017       497643.51       983635.67   \n",
       "\n",
       "         amountOrig  amountDest  difamountAmOr  difamountDesOr  difamountOD  \\\n",
       "1789481   425581.55   425581.54           0.00            0.01         0.01   \n",
       "6776980        0.02        0.01          -0.01            0.00         0.01   \n",
       "6776981   485992.17   485992.16           0.00            0.01         0.01   \n",
       "\n",
       "         difamountOrig  \n",
       "1789481           0.00  \n",
       "6776980           0.01  \n",
       "6776981           0.00  "
      ]
     },
     "execution_count": 320,
     "metadata": {
      "tags": []
     },
     "output_type": "execute_result"
    }
   ],
   "source": [
    "print(lllOrig.describe())\n",
    "df[df[\"nameOrig\"] == \"C1697697307\"]"
   ]
  },
  {
   "cell_type": "markdown",
   "metadata": {
    "colab_type": "text",
    "id": "WKkL5UDKetS5"
   },
   "source": [
    "##### Analysis of inconsistencies-fraud for 0.01 for the destination accounts"
   ]
  },
  {
   "cell_type": "code",
   "execution_count": null,
   "metadata": {
    "colab": {},
    "colab_type": "code",
    "id": "zmfHtIVOetS6",
    "outputId": "4a57a34c-e5f1-4f93-c694-ca7cfaf761d9"
   },
   "outputs": [
    {
     "name": "stdout",
     "output_type": "stream",
     "text": [
      "             nameDest\n",
      "C52983754         186\n",
      "C451111351         46\n",
      "C665576141         43\n",
      "C985934102         41\n",
      "C1360767589        41\n",
      "C1782113663        41\n",
      "C248609774         40\n",
      "C1899073220        40\n",
      "C97730845          40\n",
      "C801142660         39\n",
      "C20671747          39\n",
      "C769342184         39\n",
      "C1286084959        38\n",
      "C306206744         38\n",
      "C1023714065        38\n",
      "C977993101         38\n",
      "C803116137         38\n",
      "C2083562754        37\n",
      "C453211571         36\n",
      "C991505714         36\n",
      "C214774813         36\n",
      "C1674899618        35\n",
      "C1850180796        35\n",
      "C2006081398        34\n",
      "C1359484306        33\n",
      "C1255024717        33\n",
      "C176203926         33\n",
      "C1590550415        33\n",
      "C1247600089        33\n",
      "C481402298         33\n",
      "...               ...\n",
      "C44250367           1\n",
      "M27196454           1\n",
      "C1977955679         1\n",
      "M1131354879         1\n",
      "M2065250275         1\n",
      "M1799420702         1\n",
      "M421669364          1\n",
      "M1339498892         1\n",
      "M1697589585         1\n",
      "M940008060          1\n",
      "M372123824          1\n",
      "M1955096610         1\n",
      "M10096002           1\n",
      "M1119100690         1\n",
      "M298335293          1\n",
      "C1104386546         1\n",
      "M2032305167         1\n",
      "M334608452          1\n",
      "M448300785          1\n",
      "M1117119057         1\n",
      "M1743953682         1\n",
      "M1444085231         1\n",
      "M268792363          1\n",
      "M973266955          1\n",
      "M592074819          1\n",
      "C1035004395         1\n",
      "M1344791022         1\n",
      "M2108061091         1\n",
      "M457610290          1\n",
      "M1526064706         1\n",
      "\n",
      "[1235951 rows x 1 columns]\n"
     ]
    }
   ],
   "source": [
    "ddd = pd.DataFrame(pd.value_counts(incon_0.nameDest))\n",
    "dddDest = ddd.sort_values(\"nameDest\", ascending=False)\n",
    "print(dddDest)\n",
    "rowNam0 = dddDest.index.values"
   ]
  },
  {
   "cell_type": "code",
   "execution_count": null,
   "metadata": {
    "colab": {},
    "colab_type": "code",
    "id": "Hw0MQVWnetS8",
    "outputId": "8b7f68f9-78fd-4345-cb67-9846f150c41d"
   },
   "outputs": [
    {
     "data": {
      "text/html": [
       "<div>\n",
       "<style scoped>\n",
       "    .dataframe tbody tr th:only-of-type {\n",
       "        vertical-align: middle;\n",
       "    }\n",
       "\n",
       "    .dataframe tbody tr th {\n",
       "        vertical-align: top;\n",
       "    }\n",
       "\n",
       "    .dataframe thead th {\n",
       "        text-align: right;\n",
       "    }\n",
       "</style>\n",
       "<table border=\"1\" class=\"dataframe\">\n",
       "  <thead>\n",
       "    <tr style=\"text-align: right;\">\n",
       "      <th></th>\n",
       "      <th>timestamp</th>\n",
       "      <th>type</th>\n",
       "      <th>amount</th>\n",
       "      <th>nameOrig</th>\n",
       "      <th>oldbalanceOrig</th>\n",
       "      <th>newbalanceOrig</th>\n",
       "      <th>nameDest</th>\n",
       "      <th>oldbalanceDest</th>\n",
       "      <th>newbalanceDest</th>\n",
       "      <th>amountOrig</th>\n",
       "      <th>amountDest</th>\n",
       "      <th>difamountAmOr</th>\n",
       "      <th>difamountDesOr</th>\n",
       "      <th>difamountOD</th>\n",
       "      <th>difamountOrig</th>\n",
       "    </tr>\n",
       "  </thead>\n",
       "  <tbody>\n",
       "    <tr>\n",
       "      <th>1</th>\n",
       "      <td>1</td>\n",
       "      <td>TRANSFER</td>\n",
       "      <td>9839.64</td>\n",
       "      <td>C1231006815</td>\n",
       "      <td>170136.00</td>\n",
       "      <td>160296.36</td>\n",
       "      <td>M1979787155</td>\n",
       "      <td>0.0</td>\n",
       "      <td>9839.63</td>\n",
       "      <td>9839.64</td>\n",
       "      <td>9839.63</td>\n",
       "      <td>0.00</td>\n",
       "      <td>0.01</td>\n",
       "      <td>0.01</td>\n",
       "      <td>0.00</td>\n",
       "    </tr>\n",
       "    <tr>\n",
       "      <th>5</th>\n",
       "      <td>1</td>\n",
       "      <td>TRANSFER</td>\n",
       "      <td>11668.14</td>\n",
       "      <td>C2048537720</td>\n",
       "      <td>41554.00</td>\n",
       "      <td>29885.85</td>\n",
       "      <td>M1230701703</td>\n",
       "      <td>0.0</td>\n",
       "      <td>11668.14</td>\n",
       "      <td>11668.15</td>\n",
       "      <td>11668.14</td>\n",
       "      <td>-0.01</td>\n",
       "      <td>0.00</td>\n",
       "      <td>0.01</td>\n",
       "      <td>0.01</td>\n",
       "    </tr>\n",
       "    <tr>\n",
       "      <th>7</th>\n",
       "      <td>1</td>\n",
       "      <td>TRANSFER</td>\n",
       "      <td>7817.71</td>\n",
       "      <td>C90045638</td>\n",
       "      <td>53860.00</td>\n",
       "      <td>46042.29</td>\n",
       "      <td>M573487274</td>\n",
       "      <td>0.0</td>\n",
       "      <td>7817.70</td>\n",
       "      <td>7817.71</td>\n",
       "      <td>7817.70</td>\n",
       "      <td>0.00</td>\n",
       "      <td>0.01</td>\n",
       "      <td>0.01</td>\n",
       "      <td>0.00</td>\n",
       "    </tr>\n",
       "    <tr>\n",
       "      <th>9</th>\n",
       "      <td>1</td>\n",
       "      <td>TRANSFER</td>\n",
       "      <td>7861.64</td>\n",
       "      <td>C1912850431</td>\n",
       "      <td>176087.23</td>\n",
       "      <td>168225.58</td>\n",
       "      <td>M633326333</td>\n",
       "      <td>0.0</td>\n",
       "      <td>7861.64</td>\n",
       "      <td>7861.65</td>\n",
       "      <td>7861.64</td>\n",
       "      <td>-0.01</td>\n",
       "      <td>0.00</td>\n",
       "      <td>0.01</td>\n",
       "      <td>0.01</td>\n",
       "    </tr>\n",
       "    <tr>\n",
       "      <th>14</th>\n",
       "      <td>1</td>\n",
       "      <td>TRANSFER</td>\n",
       "      <td>3099.97</td>\n",
       "      <td>C249177573</td>\n",
       "      <td>20771.00</td>\n",
       "      <td>17671.03</td>\n",
       "      <td>M2096539129</td>\n",
       "      <td>0.0</td>\n",
       "      <td>3099.96</td>\n",
       "      <td>3099.97</td>\n",
       "      <td>3099.96</td>\n",
       "      <td>0.00</td>\n",
       "      <td>0.01</td>\n",
       "      <td>0.01</td>\n",
       "      <td>0.00</td>\n",
       "    </tr>\n",
       "  </tbody>\n",
       "</table>\n",
       "</div>"
      ],
      "text/plain": [
       "    timestamp      type    amount     nameOrig  oldbalanceOrig  \\\n",
       "1           1  TRANSFER   9839.64  C1231006815       170136.00   \n",
       "5           1  TRANSFER  11668.14  C2048537720        41554.00   \n",
       "7           1  TRANSFER   7817.71    C90045638        53860.00   \n",
       "9           1  TRANSFER   7861.64  C1912850431       176087.23   \n",
       "14          1  TRANSFER   3099.97   C249177573        20771.00   \n",
       "\n",
       "    newbalanceOrig     nameDest  oldbalanceDest  newbalanceDest  amountOrig  \\\n",
       "1        160296.36  M1979787155             0.0         9839.63     9839.64   \n",
       "5         29885.85  M1230701703             0.0        11668.14    11668.15   \n",
       "7         46042.29   M573487274             0.0         7817.70     7817.71   \n",
       "9        168225.58   M633326333             0.0         7861.64     7861.65   \n",
       "14        17671.03  M2096539129             0.0         3099.96     3099.97   \n",
       "\n",
       "    amountDest  difamountAmOr  difamountDesOr  difamountOD  difamountOrig  \n",
       "1      9839.63           0.00            0.01         0.01           0.00  \n",
       "5     11668.14          -0.01            0.00         0.01           0.01  \n",
       "7      7817.70           0.00            0.01         0.01           0.00  \n",
       "9      7861.64          -0.01            0.00         0.01           0.01  \n",
       "14     3099.96           0.00            0.01         0.01           0.00  "
      ]
     },
     "execution_count": 368,
     "metadata": {
      "tags": []
     },
     "output_type": "execute_result"
    }
   ],
   "source": [
    "### Count number of inconsistencies occur in the same time stamp per each destionation account\n",
    "import numpy as np\n",
    "df_0 = df[df[\"nameDest\"].isin(rowNam0) & df[\"difamountOD\"] != 0]\n",
    "df_0.shape\n",
    "df_0.head()"
   ]
  },
  {
   "cell_type": "code",
   "execution_count": null,
   "metadata": {
    "colab": {},
    "colab_type": "code",
    "id": "d17CkrZRetS-",
    "outputId": "a87c8885-2fe4-428b-d459-3c1a983c455f"
   },
   "outputs": [
    {
     "data": {
      "text/plain": [
       "(2857028, 1)"
      ]
     },
     "execution_count": 381,
     "metadata": {
      "tags": []
     },
     "output_type": "execute_result"
    }
   ],
   "source": [
    "ppp = pd.DataFrame(df_0.groupby([\"nameDest\", \"timestamp\"]).size())\n",
    "ppp.columns = [\"numIn\"] ## number of inconsistencies per timestamp and destination account\n",
    "ppp.shape"
   ]
  },
  {
   "cell_type": "code",
   "execution_count": null,
   "metadata": {
    "colab": {},
    "colab_type": "code",
    "id": "NnWhiCJxetTA",
    "outputId": "90244a38-aade-4bca-cc18-c0610bdb0366"
   },
   "outputs": [
    {
     "name": "stdout",
     "output_type": "stream",
     "text": [
      "0\n",
      "100000\n",
      "200000\n",
      "300000\n",
      "400000\n",
      "500000\n",
      "600000\n",
      "700000\n",
      "800000\n",
      "900000\n",
      "1000000\n",
      "1100000\n",
      "1200000\n"
     ]
    }
   ],
   "source": [
    "vect_maxTimeSt0 = [] ## to identify the time stamp with maximum number of inconsistencies\n",
    "vect_TimeStLast0 = [] ## to identify the last time stamp with inconsistencies\n",
    "for ii in range(len(rowNam0)):\n",
    "    lll = ppp.loc[rowNam0[ii]]\n",
    "    vect_maxTimeSt0.append(lll.idxmax(axis = 0))\n",
    "    vect_TimeStLast0.append(lll.index.values[len(lll.index)-1])\n",
    "    if ii % 100000 == 0:\n",
    "        print(ii)"
   ]
  },
  {
   "cell_type": "code",
   "execution_count": null,
   "metadata": {
    "colab": {},
    "colab_type": "code",
    "id": "JyQ0sWR-etTD",
    "outputId": "51071e91-f948-4649-fe79-dd937eacb59b"
   },
   "outputs": [
    {
     "data": {
      "text/plain": [
       "1235951"
      ]
     },
     "execution_count": 477,
     "metadata": {
      "tags": []
     },
     "output_type": "execute_result"
    }
   ],
   "source": [
    "len(dddDest.index.values)"
   ]
  },
  {
   "cell_type": "code",
   "execution_count": null,
   "metadata": {
    "colab": {},
    "colab_type": "code",
    "id": "Wde3NS9DetTF"
   },
   "outputs": [],
   "source": [
    "vect_maxTimeSt0_2 = [float(x) for x in vect_maxTimeSt0]"
   ]
  },
  {
   "cell_type": "code",
   "execution_count": null,
   "metadata": {
    "colab": {},
    "colab_type": "code",
    "id": "fNAjtK5ketTH"
   },
   "outputs": [],
   "source": [
    "df_TimeStamp0 = pd.DataFrame()\n",
    "df_TimeStamp0[\"maxTimeSt\"] = vect_maxTimeSt0_2\n",
    "df_TimeStamp0[\"lastTimeSt\"] = vect_TimeStLast0"
   ]
  },
  {
   "cell_type": "code",
   "execution_count": null,
   "metadata": {
    "colab": {},
    "colab_type": "code",
    "id": "V3nCPYmUetTK",
    "outputId": "cc3a2e61-04b1-470b-e4a0-f724fbc59eb9"
   },
   "outputs": [
    {
     "data": {
      "text/plain": [
       "(1235951, 2)"
      ]
     },
     "execution_count": 475,
     "metadata": {
      "tags": []
     },
     "output_type": "execute_result"
    }
   ],
   "source": [
    "df_TimeStamp0.shape"
   ]
  },
  {
   "cell_type": "code",
   "execution_count": null,
   "metadata": {
    "colab": {},
    "colab_type": "code",
    "id": "ewrlhIKpetTO",
    "outputId": "3e4cac46-3bc6-432f-881d-3f523a7bfa3c"
   },
   "outputs": [
    {
     "data": {
      "image/png": "[encoded data removed]",
      "text/plain": [
       "<Figure size 432x288 with 1 Axes>"
      ]
     },
     "metadata": {
      "needs_background": "light",
      "tags": []
     },
     "output_type": "display_data"
    }
   ],
   "source": [
    "d=sns.boxplot(df_TimeStamp0[\"maxTimeSt\"])\n",
    "plt.title(\"TimeStamp with maximum number of inconsistencies\")\n",
    "plt.savefig(\"Incons_MaxTimeStamp.png\")"
   ]
  },
  {
   "cell_type": "code",
   "execution_count": null,
   "metadata": {
    "colab": {},
    "colab_type": "code",
    "id": "-TtwAiTketTR",
    "outputId": "9f01adc9-821c-4baa-8c55-5681b072762d"
   },
   "outputs": [
    {
     "data": {
      "image/png": "[encoded data removed]",
      "text/plain": [
       "<Figure size 432x288 with 1 Axes>"
      ]
     },
     "metadata": {
      "needs_background": "light",
      "tags": []
     },
     "output_type": "display_data"
    }
   ],
   "source": [
    "e = sns.boxplot(df_TimeStamp0[\"lastTimeSt\"])\n",
    "plt.title(\"Last time stamp with inconsistencies\")\n",
    "plt.savefig(\"Incons_LastTimeStamp.png\")"
   ]
  },
  {
   "cell_type": "code",
   "execution_count": null,
   "metadata": {
    "colab": {},
    "colab_type": "code",
    "id": "FfzrqphfetTT",
    "outputId": "f165df9c-07b1-4e6f-f849-b549093416cc"
   },
   "outputs": [
    {
     "data": {
      "text/html": [
       "<div>\n",
       "<style scoped>\n",
       "    .dataframe tbody tr th:only-of-type {\n",
       "        vertical-align: middle;\n",
       "    }\n",
       "\n",
       "    .dataframe tbody tr th {\n",
       "        vertical-align: top;\n",
       "    }\n",
       "\n",
       "    .dataframe thead th {\n",
       "        text-align: right;\n",
       "    }\n",
       "</style>\n",
       "<table border=\"1\" class=\"dataframe\">\n",
       "  <thead>\n",
       "    <tr style=\"text-align: right;\">\n",
       "      <th></th>\n",
       "      <th>timestamp</th>\n",
       "      <th>type</th>\n",
       "      <th>amount</th>\n",
       "      <th>nameOrig</th>\n",
       "      <th>oldbalanceOrig</th>\n",
       "      <th>newbalanceOrig</th>\n",
       "      <th>nameDest</th>\n",
       "      <th>oldbalanceDest</th>\n",
       "      <th>newbalanceDest</th>\n",
       "      <th>amountOrig</th>\n",
       "      <th>amountDest</th>\n",
       "      <th>difamountAmOr</th>\n",
       "      <th>difamountDesOr</th>\n",
       "      <th>difamountOD</th>\n",
       "      <th>difamountOrig</th>\n",
       "    </tr>\n",
       "  </thead>\n",
       "  <tbody>\n",
       "    <tr>\n",
       "      <th>30</th>\n",
       "      <td>1</td>\n",
       "      <td>TRANSFER</td>\n",
       "      <td>1065.41</td>\n",
       "      <td>C1959239586</td>\n",
       "      <td>1817.00</td>\n",
       "      <td>751.59</td>\n",
       "      <td>C515132998</td>\n",
       "      <td>10330.0</td>\n",
       "      <td>11395.40</td>\n",
       "      <td>1065.41</td>\n",
       "      <td>1065.40</td>\n",
       "      <td>0.00</td>\n",
       "      <td>0.01</td>\n",
       "      <td>0.01</td>\n",
       "      <td>0.00</td>\n",
       "    </tr>\n",
       "    <tr>\n",
       "      <th>33</th>\n",
       "      <td>1</td>\n",
       "      <td>TRANSFER</td>\n",
       "      <td>311685.89</td>\n",
       "      <td>C1984094095</td>\n",
       "      <td>10835.00</td>\n",
       "      <td>-300850.89</td>\n",
       "      <td>C932583850</td>\n",
       "      <td>6267.0</td>\n",
       "      <td>317952.88</td>\n",
       "      <td>311685.89</td>\n",
       "      <td>311685.88</td>\n",
       "      <td>0.00</td>\n",
       "      <td>0.01</td>\n",
       "      <td>0.01</td>\n",
       "      <td>0.00</td>\n",
       "    </tr>\n",
       "    <tr>\n",
       "      <th>56</th>\n",
       "      <td>1</td>\n",
       "      <td>TRANSFER</td>\n",
       "      <td>110414.71</td>\n",
       "      <td>C768216420</td>\n",
       "      <td>26845.41</td>\n",
       "      <td>-83569.30</td>\n",
       "      <td>C1509514333</td>\n",
       "      <td>288800.0</td>\n",
       "      <td>399214.70</td>\n",
       "      <td>110414.71</td>\n",
       "      <td>110414.70</td>\n",
       "      <td>0.00</td>\n",
       "      <td>0.01</td>\n",
       "      <td>0.01</td>\n",
       "      <td>0.00</td>\n",
       "    </tr>\n",
       "    <tr>\n",
       "      <th>77</th>\n",
       "      <td>1</td>\n",
       "      <td>TRANSFER</td>\n",
       "      <td>5529.13</td>\n",
       "      <td>C867288517</td>\n",
       "      <td>8547.00</td>\n",
       "      <td>3017.87</td>\n",
       "      <td>C242131142</td>\n",
       "      <td>10206.0</td>\n",
       "      <td>15735.12</td>\n",
       "      <td>5529.13</td>\n",
       "      <td>5529.12</td>\n",
       "      <td>0.00</td>\n",
       "      <td>0.01</td>\n",
       "      <td>0.01</td>\n",
       "      <td>0.00</td>\n",
       "    </tr>\n",
       "    <tr>\n",
       "      <th>79</th>\n",
       "      <td>1</td>\n",
       "      <td>TRANSFER</td>\n",
       "      <td>4510.22</td>\n",
       "      <td>C280615803</td>\n",
       "      <td>10256.00</td>\n",
       "      <td>5745.77</td>\n",
       "      <td>C1254526270</td>\n",
       "      <td>10697.0</td>\n",
       "      <td>15207.22</td>\n",
       "      <td>4510.23</td>\n",
       "      <td>4510.22</td>\n",
       "      <td>-0.01</td>\n",
       "      <td>0.00</td>\n",
       "      <td>0.01</td>\n",
       "      <td>0.01</td>\n",
       "    </tr>\n",
       "  </tbody>\n",
       "</table>\n",
       "</div>"
      ],
      "text/plain": [
       "    timestamp      type     amount     nameOrig  oldbalanceOrig  \\\n",
       "30          1  TRANSFER    1065.41  C1959239586         1817.00   \n",
       "33          1  TRANSFER  311685.89  C1984094095        10835.00   \n",
       "56          1  TRANSFER  110414.71   C768216420        26845.41   \n",
       "77          1  TRANSFER    5529.13   C867288517         8547.00   \n",
       "79          1  TRANSFER    4510.22   C280615803        10256.00   \n",
       "\n",
       "    newbalanceOrig     nameDest  oldbalanceDest  newbalanceDest  amountOrig  \\\n",
       "30          751.59   C515132998         10330.0        11395.40     1065.41   \n",
       "33      -300850.89   C932583850          6267.0       317952.88   311685.89   \n",
       "56       -83569.30  C1509514333        288800.0       399214.70   110414.71   \n",
       "77         3017.87   C242131142         10206.0        15735.12     5529.13   \n",
       "79         5745.77  C1254526270         10697.0        15207.22     4510.23   \n",
       "\n",
       "    amountDest  difamountAmOr  difamountDesOr  difamountOD  difamountOrig  \n",
       "30     1065.40           0.00            0.01         0.01           0.00  \n",
       "33   311685.88           0.00            0.01         0.01           0.00  \n",
       "56   110414.70           0.00            0.01         0.01           0.00  \n",
       "77     5529.12           0.00            0.01         0.01           0.00  \n",
       "79     4510.22          -0.01            0.00         0.01           0.01  "
      ]
     },
     "execution_count": 461,
     "metadata": {
      "tags": []
     },
     "output_type": "execute_result"
    }
   ],
   "source": [
    "# # # analysis of destination accounts when the newbalanceOrig is negative \n",
    "import numpy as np\n",
    "rowNam0_C = rowNam0 = dddDest[dddDest[\"nameDest\"] > 1].index.values# for destination accounts with more than one balance inconsistency \n",
    "df_0C = df[df[\"nameDest\"].isin(rowNam0_C) & df[\"difamountOD\"] != 0]"
   ]
  },
  {
   "cell_type": "code",
   "execution_count": null,
   "metadata": {
    "colab": {},
    "colab_type": "code",
    "id": "VYrjIOKeetTV",
    "outputId": "bc419484-2d3e-4958-8454-8009f78bc93c"
   },
   "outputs": [
    {
     "name": "stderr",
     "output_type": "stream",
     "text": [
      "/Users/fabiotejedor/anaconda3/lib/python3.7/site-packages/ipykernel_launcher.py:1: SettingWithCopyWarning: \n",
      "A value is trying to be set on a copy of a slice from a DataFrame.\n",
      "Try using .loc[row_indexer,col_indexer] = value instead\n",
      "\n",
      "See the caveats in the documentation: http://pandas.pydata.org/pandas-docs/stable/indexing.html#indexing-view-versus-copy\n",
      "  \"\"\"Entry point for launching an IPython kernel.\n"
     ]
    }
   ],
   "source": [
    "df_0C[\"IndNegative\"] = [0 if x > 0 else 1 for x in df_0C['newbalanceOrig']]"
   ]
  },
  {
   "cell_type": "code",
   "execution_count": null,
   "metadata": {
    "colab": {},
    "colab_type": "code",
    "id": "pZ0UYMRietTW"
   },
   "outputs": [],
   "source": [
    "www = pd.crosstab(df_0C.nameDest, df_0C.IndNegative).apply(lambda r: r/r.sum(), axis=1)"
   ]
  },
  {
   "cell_type": "code",
   "execution_count": null,
   "metadata": {
    "colab": {},
    "colab_type": "code",
    "id": "Uxu_uFT9etTZ",
    "outputId": "904751c7-5927-4889-de7d-8af486ee416b"
   },
   "outputs": [
    {
     "name": "stdout",
     "output_type": "stream",
     "text": [
      "IndNegative         0         1\n",
      "nameDest                       \n",
      "C1000004082  0.166667  0.833333\n",
      "C1000004940  0.285714  0.714286\n",
      "C1000013769  0.285714  0.714286\n",
      "C100001587   0.500000  0.500000\n",
      "C1000015936  0.272727  0.727273\n"
     ]
    },
    {
     "data": {
      "text/html": [
       "<div>\n",
       "<style scoped>\n",
       "    .dataframe tbody tr th:only-of-type {\n",
       "        vertical-align: middle;\n",
       "    }\n",
       "\n",
       "    .dataframe tbody tr th {\n",
       "        vertical-align: top;\n",
       "    }\n",
       "\n",
       "    .dataframe thead th {\n",
       "        text-align: right;\n",
       "    }\n",
       "</style>\n",
       "<table border=\"1\" class=\"dataframe\">\n",
       "  <thead>\n",
       "    <tr style=\"text-align: right;\">\n",
       "      <th>IndNegative</th>\n",
       "      <th>0</th>\n",
       "      <th>1</th>\n",
       "    </tr>\n",
       "  </thead>\n",
       "  <tbody>\n",
       "    <tr>\n",
       "      <th>count</th>\n",
       "      <td>296792.000000</td>\n",
       "      <td>296792.000000</td>\n",
       "    </tr>\n",
       "    <tr>\n",
       "      <th>mean</th>\n",
       "      <td>0.293455</td>\n",
       "      <td>0.706545</td>\n",
       "    </tr>\n",
       "    <tr>\n",
       "      <th>std</th>\n",
       "      <td>0.219262</td>\n",
       "      <td>0.219262</td>\n",
       "    </tr>\n",
       "    <tr>\n",
       "      <th>min</th>\n",
       "      <td>0.000000</td>\n",
       "      <td>0.000000</td>\n",
       "    </tr>\n",
       "    <tr>\n",
       "      <th>25%</th>\n",
       "      <td>0.142857</td>\n",
       "      <td>0.571429</td>\n",
       "    </tr>\n",
       "    <tr>\n",
       "      <th>50%</th>\n",
       "      <td>0.285714</td>\n",
       "      <td>0.714286</td>\n",
       "    </tr>\n",
       "    <tr>\n",
       "      <th>75%</th>\n",
       "      <td>0.428571</td>\n",
       "      <td>0.857143</td>\n",
       "    </tr>\n",
       "    <tr>\n",
       "      <th>max</th>\n",
       "      <td>1.000000</td>\n",
       "      <td>1.000000</td>\n",
       "    </tr>\n",
       "  </tbody>\n",
       "</table>\n",
       "</div>"
      ],
      "text/plain": [
       "IndNegative              0              1\n",
       "count        296792.000000  296792.000000\n",
       "mean              0.293455       0.706545\n",
       "std               0.219262       0.219262\n",
       "min               0.000000       0.000000\n",
       "25%               0.142857       0.571429\n",
       "50%               0.285714       0.714286\n",
       "75%               0.428571       0.857143\n",
       "max               1.000000       1.000000"
      ]
     },
     "execution_count": 484,
     "metadata": {
      "tags": []
     },
     "output_type": "execute_result"
    }
   ],
   "source": [
    "print(www.head())\n",
    "www.describe()"
   ]
  },
  {
   "cell_type": "markdown",
   "metadata": {
    "colab_type": "text",
    "id": "3Q0carLKetTb"
   },
   "source": [
    "##### Inconsistencies for 0.02"
   ]
  },
  {
   "cell_type": "code",
   "execution_count": null,
   "metadata": {
    "colab": {},
    "colab_type": "code",
    "id": "xawZVXmmetTb",
    "outputId": "66057b6c-4cf4-46b4-e4d2-3dc190ba5387"
   },
   "outputs": [
    {
     "data": {
      "text/html": [
       "<div>\n",
       "<style scoped>\n",
       "    .dataframe tbody tr th:only-of-type {\n",
       "        vertical-align: middle;\n",
       "    }\n",
       "\n",
       "    .dataframe tbody tr th {\n",
       "        vertical-align: top;\n",
       "    }\n",
       "\n",
       "    .dataframe thead th {\n",
       "        text-align: right;\n",
       "    }\n",
       "</style>\n",
       "<table border=\"1\" class=\"dataframe\">\n",
       "  <thead>\n",
       "    <tr style=\"text-align: right;\">\n",
       "      <th></th>\n",
       "      <th>timestamp</th>\n",
       "      <th>type</th>\n",
       "      <th>amount</th>\n",
       "      <th>nameOrig</th>\n",
       "      <th>oldbalanceOrig</th>\n",
       "      <th>newbalanceOrig</th>\n",
       "      <th>nameDest</th>\n",
       "      <th>oldbalanceDest</th>\n",
       "      <th>newbalanceDest</th>\n",
       "      <th>amountOrig</th>\n",
       "      <th>difamountOrig</th>\n",
       "      <th>amountDest</th>\n",
       "      <th>difamountOD</th>\n",
       "    </tr>\n",
       "  </thead>\n",
       "  <tbody>\n",
       "    <tr>\n",
       "      <th>41</th>\n",
       "      <td>1</td>\n",
       "      <td>TRANSFER</td>\n",
       "      <td>3448.92</td>\n",
       "      <td>C2103763750</td>\n",
       "      <td>0.0</td>\n",
       "      <td>-3448.93</td>\n",
       "      <td>M335107734</td>\n",
       "      <td>0.00</td>\n",
       "      <td>3448.91</td>\n",
       "      <td>3448.93</td>\n",
       "      <td>0.01</td>\n",
       "      <td>3448.91</td>\n",
       "      <td>0.02</td>\n",
       "    </tr>\n",
       "    <tr>\n",
       "      <th>89</th>\n",
       "      <td>1</td>\n",
       "      <td>TRANSFER</td>\n",
       "      <td>5149.66</td>\n",
       "      <td>C1955990522</td>\n",
       "      <td>4782.0</td>\n",
       "      <td>-367.67</td>\n",
       "      <td>C1330106945</td>\n",
       "      <td>52752.00</td>\n",
       "      <td>57901.65</td>\n",
       "      <td>5149.67</td>\n",
       "      <td>0.01</td>\n",
       "      <td>5149.65</td>\n",
       "      <td>0.02</td>\n",
       "    </tr>\n",
       "    <tr>\n",
       "      <th>90</th>\n",
       "      <td>1</td>\n",
       "      <td>TRANSFER</td>\n",
       "      <td>7292.16</td>\n",
       "      <td>C69673470</td>\n",
       "      <td>216827.0</td>\n",
       "      <td>209534.83</td>\n",
       "      <td>M1082411691</td>\n",
       "      <td>0.00</td>\n",
       "      <td>7292.15</td>\n",
       "      <td>7292.17</td>\n",
       "      <td>0.01</td>\n",
       "      <td>7292.15</td>\n",
       "      <td>0.02</td>\n",
       "    </tr>\n",
       "    <tr>\n",
       "      <th>94</th>\n",
       "      <td>1</td>\n",
       "      <td>TRANSFER</td>\n",
       "      <td>2998.04</td>\n",
       "      <td>C71802912</td>\n",
       "      <td>12030.0</td>\n",
       "      <td>9031.95</td>\n",
       "      <td>M2134271532</td>\n",
       "      <td>0.00</td>\n",
       "      <td>2998.03</td>\n",
       "      <td>2998.05</td>\n",
       "      <td>0.01</td>\n",
       "      <td>2998.03</td>\n",
       "      <td>0.02</td>\n",
       "    </tr>\n",
       "    <tr>\n",
       "      <th>116</th>\n",
       "      <td>1</td>\n",
       "      <td>TRANSFER</td>\n",
       "      <td>761507.39</td>\n",
       "      <td>C412788346</td>\n",
       "      <td>0.0</td>\n",
       "      <td>-761507.40</td>\n",
       "      <td>C1590550415</td>\n",
       "      <td>1280036.22</td>\n",
       "      <td>2041543.60</td>\n",
       "      <td>761507.40</td>\n",
       "      <td>0.01</td>\n",
       "      <td>761507.38</td>\n",
       "      <td>0.02</td>\n",
       "    </tr>\n",
       "  </tbody>\n",
       "</table>\n",
       "</div>"
      ],
      "text/plain": [
       "     timestamp      type     amount     nameOrig  oldbalanceOrig  \\\n",
       "41           1  TRANSFER    3448.92  C2103763750             0.0   \n",
       "89           1  TRANSFER    5149.66  C1955990522          4782.0   \n",
       "90           1  TRANSFER    7292.16    C69673470        216827.0   \n",
       "94           1  TRANSFER    2998.04    C71802912         12030.0   \n",
       "116          1  TRANSFER  761507.39   C412788346             0.0   \n",
       "\n",
       "     newbalanceOrig     nameDest  oldbalanceDest  newbalanceDest  amountOrig  \\\n",
       "41         -3448.93   M335107734            0.00         3448.91     3448.93   \n",
       "89          -367.67  C1330106945        52752.00        57901.65     5149.67   \n",
       "90        209534.83  M1082411691            0.00         7292.15     7292.17   \n",
       "94          9031.95  M2134271532            0.00         2998.03     2998.05   \n",
       "116      -761507.40  C1590550415      1280036.22      2041543.60   761507.40   \n",
       "\n",
       "     difamountOrig  amountDest  difamountOD  \n",
       "41            0.01     3448.91         0.02  \n",
       "89            0.01     5149.65         0.02  \n",
       "90            0.01     7292.15         0.02  \n",
       "94            0.01     2998.03         0.02  \n",
       "116           0.01   761507.38         0.02  "
      ]
     },
     "execution_count": 233,
     "metadata": {
      "tags": []
     },
     "output_type": "execute_result"
    }
   ],
   "source": [
    "incon_1 = pd.DataFrame(inconsistent.loc[inconsistent[\"difamountOD\"] == vect_Incon['incon_']])\n",
    "incon_1.head()"
   ]
  },
  {
   "cell_type": "code",
   "execution_count": null,
   "metadata": {
    "colab": {},
    "colab_type": "code",
    "id": "RvvZ3a0detTd",
    "outputId": "bda9bcad-8b7b-4e7f-9854-babf162dcf04"
   },
   "outputs": [
    {
     "data": {
      "text/html": [
       "<div>\n",
       "<style scoped>\n",
       "    .dataframe tbody tr th:only-of-type {\n",
       "        vertical-align: middle;\n",
       "    }\n",
       "\n",
       "    .dataframe tbody tr th {\n",
       "        vertical-align: top;\n",
       "    }\n",
       "\n",
       "    .dataframe thead th {\n",
       "        text-align: right;\n",
       "    }\n",
       "</style>\n",
       "<table border=\"1\" class=\"dataframe\">\n",
       "  <thead>\n",
       "    <tr style=\"text-align: right;\">\n",
       "      <th></th>\n",
       "      <th>timestamp</th>\n",
       "      <th>type</th>\n",
       "      <th>amount</th>\n",
       "      <th>nameOrig</th>\n",
       "      <th>oldbalanceOrig</th>\n",
       "      <th>newbalanceOrig</th>\n",
       "      <th>nameDest</th>\n",
       "      <th>oldbalanceDest</th>\n",
       "      <th>newbalanceDest</th>\n",
       "      <th>amountOrig</th>\n",
       "      <th>difamountOrig</th>\n",
       "      <th>amountDest</th>\n",
       "      <th>difamountOD</th>\n",
       "    </tr>\n",
       "  </thead>\n",
       "  <tbody>\n",
       "    <tr>\n",
       "      <th>4496426</th>\n",
       "      <td>277</td>\n",
       "      <td>TRANSFER</td>\n",
       "      <td>0.01</td>\n",
       "      <td>C1501901797</td>\n",
       "      <td>29057.00</td>\n",
       "      <td>29056.99</td>\n",
       "      <td>C52983754</td>\n",
       "      <td>7968.52</td>\n",
       "      <td>7968.53</td>\n",
       "      <td>0.01</td>\n",
       "      <td>0.00</td>\n",
       "      <td>0.01</td>\n",
       "      <td>0.00</td>\n",
       "    </tr>\n",
       "    <tr>\n",
       "      <th>4496427</th>\n",
       "      <td>277</td>\n",
       "      <td>TRANSFER</td>\n",
       "      <td>108833.16</td>\n",
       "      <td>C1501901797</td>\n",
       "      <td>29057.00</td>\n",
       "      <td>-79776.16</td>\n",
       "      <td>C483048584</td>\n",
       "      <td>286829.03</td>\n",
       "      <td>395662.17</td>\n",
       "      <td>108833.16</td>\n",
       "      <td>0.00</td>\n",
       "      <td>108833.14</td>\n",
       "      <td>0.02</td>\n",
       "    </tr>\n",
       "    <tr>\n",
       "      <th>7697516</th>\n",
       "      <td>690</td>\n",
       "      <td>TRANSFER</td>\n",
       "      <td>181805.43</td>\n",
       "      <td>C1501901797</td>\n",
       "      <td>-79776.16</td>\n",
       "      <td>-261581.60</td>\n",
       "      <td>C1095685785</td>\n",
       "      <td>1221657.85</td>\n",
       "      <td>1403463.27</td>\n",
       "      <td>181805.44</td>\n",
       "      <td>0.01</td>\n",
       "      <td>181805.42</td>\n",
       "      <td>0.02</td>\n",
       "    </tr>\n",
       "  </tbody>\n",
       "</table>\n",
       "</div>"
      ],
      "text/plain": [
       "         timestamp      type     amount     nameOrig  oldbalanceOrig  \\\n",
       "4496426        277  TRANSFER       0.01  C1501901797        29057.00   \n",
       "4496427        277  TRANSFER  108833.16  C1501901797        29057.00   \n",
       "7697516        690  TRANSFER  181805.43  C1501901797       -79776.16   \n",
       "\n",
       "         newbalanceOrig     nameDest  oldbalanceDest  newbalanceDest  \\\n",
       "4496426        29056.99    C52983754         7968.52         7968.53   \n",
       "4496427       -79776.16   C483048584       286829.03       395662.17   \n",
       "7697516      -261581.60  C1095685785      1221657.85      1403463.27   \n",
       "\n",
       "         amountOrig  difamountOrig  amountDest  difamountOD  \n",
       "4496426        0.01           0.00        0.01         0.00  \n",
       "4496427   108833.16           0.00   108833.14         0.02  \n",
       "7697516   181805.44           0.01   181805.42         0.02  "
      ]
     },
     "execution_count": 239,
     "metadata": {
      "tags": []
     },
     "output_type": "execute_result"
    }
   ],
   "source": [
    "lll = pd.DataFrame(pd.value_counts(incon_1.nameOrig))\n",
    "lllOrig = lll.sort_values(\"nameOrig\", ascending=False)\n",
    "print(lllOrig.head())\n",
    "df[(df[\"nameOrig\"] == \"C1501901797\")].head()\n"
   ]
  },
  {
   "cell_type": "code",
   "execution_count": null,
   "metadata": {
    "colab": {},
    "colab_type": "code",
    "id": "Y-PeZhtbetTh",
    "outputId": "7d75d0cc-d28c-4f09-d282-7bcdb7aa7e9a",
    "scrolled": true
   },
   "outputs": [
    {
     "name": "stdout",
     "output_type": "stream",
     "text": [
      "             nameDest\n",
      "C1286084959        21\n",
      "C1068824137        13\n",
      "C1870252780        13\n",
      "C89146006          13\n",
      "C667346055         13\n"
     ]
    },
    {
     "data": {
      "text/html": [
       "<div>\n",
       "<style scoped>\n",
       "    .dataframe tbody tr th:only-of-type {\n",
       "        vertical-align: middle;\n",
       "    }\n",
       "\n",
       "    .dataframe tbody tr th {\n",
       "        vertical-align: top;\n",
       "    }\n",
       "\n",
       "    .dataframe thead th {\n",
       "        text-align: right;\n",
       "    }\n",
       "</style>\n",
       "<table border=\"1\" class=\"dataframe\">\n",
       "  <thead>\n",
       "    <tr style=\"text-align: right;\">\n",
       "      <th></th>\n",
       "      <th>timestamp</th>\n",
       "      <th>type</th>\n",
       "      <th>amount</th>\n",
       "      <th>nameOrig</th>\n",
       "      <th>oldbalanceOrig</th>\n",
       "      <th>newbalanceOrig</th>\n",
       "      <th>nameDest</th>\n",
       "      <th>oldbalanceDest</th>\n",
       "      <th>newbalanceDest</th>\n",
       "      <th>amountOrig</th>\n",
       "      <th>difamountOrig</th>\n",
       "      <th>amountDest</th>\n",
       "      <th>difamountOD</th>\n",
       "    </tr>\n",
       "  </thead>\n",
       "  <tbody>\n",
       "    <tr>\n",
       "      <th>122</th>\n",
       "      <td>1</td>\n",
       "      <td>TRANSFER</td>\n",
       "      <td>583848.46</td>\n",
       "      <td>C1839168128</td>\n",
       "      <td>0.00</td>\n",
       "      <td>-583848.46</td>\n",
       "      <td>C1286084959</td>\n",
       "      <td>0.30</td>\n",
       "      <td>583848.76</td>\n",
       "      <td>583848.46</td>\n",
       "      <td>0.00</td>\n",
       "      <td>583848.46</td>\n",
       "      <td>0.00</td>\n",
       "    </tr>\n",
       "    <tr>\n",
       "      <th>445</th>\n",
       "      <td>1</td>\n",
       "      <td>TRANSFER</td>\n",
       "      <td>176334.26</td>\n",
       "      <td>C169880779</td>\n",
       "      <td>45136.00</td>\n",
       "      <td>-131198.26</td>\n",
       "      <td>C1286084959</td>\n",
       "      <td>583849.59</td>\n",
       "      <td>760183.84</td>\n",
       "      <td>176334.26</td>\n",
       "      <td>0.00</td>\n",
       "      <td>176334.25</td>\n",
       "      <td>0.01</td>\n",
       "    </tr>\n",
       "    <tr>\n",
       "      <th>468</th>\n",
       "      <td>1</td>\n",
       "      <td>TRANSFER</td>\n",
       "      <td>373068.26</td>\n",
       "      <td>C1047934137</td>\n",
       "      <td>20034.00</td>\n",
       "      <td>-353034.26</td>\n",
       "      <td>C1286084959</td>\n",
       "      <td>760183.94</td>\n",
       "      <td>1133252.20</td>\n",
       "      <td>373068.26</td>\n",
       "      <td>0.00</td>\n",
       "      <td>373068.26</td>\n",
       "      <td>0.00</td>\n",
       "    </tr>\n",
       "    <tr>\n",
       "      <th>568</th>\n",
       "      <td>1</td>\n",
       "      <td>TRANSFER</td>\n",
       "      <td>403418.39</td>\n",
       "      <td>C848097505</td>\n",
       "      <td>3834666.95</td>\n",
       "      <td>3431248.56</td>\n",
       "      <td>C1286084959</td>\n",
       "      <td>1133252.45</td>\n",
       "      <td>1536670.83</td>\n",
       "      <td>403418.39</td>\n",
       "      <td>0.00</td>\n",
       "      <td>403418.38</td>\n",
       "      <td>0.01</td>\n",
       "    </tr>\n",
       "    <tr>\n",
       "      <th>782</th>\n",
       "      <td>1</td>\n",
       "      <td>TRANSFER</td>\n",
       "      <td>222126.95</td>\n",
       "      <td>C870322840</td>\n",
       "      <td>6688712.64</td>\n",
       "      <td>6466585.69</td>\n",
       "      <td>C1286084959</td>\n",
       "      <td>1536671.42</td>\n",
       "      <td>1758798.35</td>\n",
       "      <td>222126.95</td>\n",
       "      <td>0.00</td>\n",
       "      <td>222126.93</td>\n",
       "      <td>0.02</td>\n",
       "    </tr>\n",
       "    <tr>\n",
       "      <th>803</th>\n",
       "      <td>1</td>\n",
       "      <td>TRANSFER</td>\n",
       "      <td>317393.38</td>\n",
       "      <td>C1197721383</td>\n",
       "      <td>8906617.38</td>\n",
       "      <td>8589224.00</td>\n",
       "      <td>C1286084959</td>\n",
       "      <td>1758798.42</td>\n",
       "      <td>2076191.79</td>\n",
       "      <td>317393.38</td>\n",
       "      <td>0.00</td>\n",
       "      <td>317393.37</td>\n",
       "      <td>0.01</td>\n",
       "    </tr>\n",
       "    <tr>\n",
       "      <th>852</th>\n",
       "      <td>1</td>\n",
       "      <td>TRANSFER</td>\n",
       "      <td>18288.91</td>\n",
       "      <td>C1049590050</td>\n",
       "      <td>0.00</td>\n",
       "      <td>-18288.92</td>\n",
       "      <td>C1286084959</td>\n",
       "      <td>2076191.95</td>\n",
       "      <td>2094480.85</td>\n",
       "      <td>18288.92</td>\n",
       "      <td>0.01</td>\n",
       "      <td>18288.90</td>\n",
       "      <td>0.02</td>\n",
       "    </tr>\n",
       "    <tr>\n",
       "      <th>973</th>\n",
       "      <td>1</td>\n",
       "      <td>TRANSFER</td>\n",
       "      <td>483544.30</td>\n",
       "      <td>C593447952</td>\n",
       "      <td>0.00</td>\n",
       "      <td>-483544.30</td>\n",
       "      <td>C1286084959</td>\n",
       "      <td>2094481.24</td>\n",
       "      <td>2578025.54</td>\n",
       "      <td>483544.30</td>\n",
       "      <td>0.00</td>\n",
       "      <td>483544.30</td>\n",
       "      <td>0.00</td>\n",
       "    </tr>\n",
       "    <tr>\n",
       "      <th>1016</th>\n",
       "      <td>1</td>\n",
       "      <td>TRANSFER</td>\n",
       "      <td>607616.73</td>\n",
       "      <td>C1267042315</td>\n",
       "      <td>0.00</td>\n",
       "      <td>-607616.73</td>\n",
       "      <td>C1286084959</td>\n",
       "      <td>2578025.67</td>\n",
       "      <td>3185642.40</td>\n",
       "      <td>607616.73</td>\n",
       "      <td>0.00</td>\n",
       "      <td>607616.73</td>\n",
       "      <td>0.00</td>\n",
       "    </tr>\n",
       "    <tr>\n",
       "      <th>1410</th>\n",
       "      <td>1</td>\n",
       "      <td>TRANSFER</td>\n",
       "      <td>789419.02</td>\n",
       "      <td>C883678948</td>\n",
       "      <td>0.00</td>\n",
       "      <td>-789419.02</td>\n",
       "      <td>C1286084959</td>\n",
       "      <td>3185643.42</td>\n",
       "      <td>3975062.44</td>\n",
       "      <td>789419.02</td>\n",
       "      <td>0.00</td>\n",
       "      <td>789419.02</td>\n",
       "      <td>0.00</td>\n",
       "    </tr>\n",
       "    <tr>\n",
       "      <th>1593</th>\n",
       "      <td>1</td>\n",
       "      <td>TRANSFER</td>\n",
       "      <td>128022.19</td>\n",
       "      <td>C1028472807</td>\n",
       "      <td>7430051.50</td>\n",
       "      <td>7302029.31</td>\n",
       "      <td>C1286084959</td>\n",
       "      <td>3975062.98</td>\n",
       "      <td>4103085.17</td>\n",
       "      <td>128022.19</td>\n",
       "      <td>0.00</td>\n",
       "      <td>128022.19</td>\n",
       "      <td>0.00</td>\n",
       "    </tr>\n",
       "    <tr>\n",
       "      <th>1722</th>\n",
       "      <td>1</td>\n",
       "      <td>TRANSFER</td>\n",
       "      <td>6027.22</td>\n",
       "      <td>C986944742</td>\n",
       "      <td>277100.00</td>\n",
       "      <td>271072.78</td>\n",
       "      <td>C1286084959</td>\n",
       "      <td>4103085.52</td>\n",
       "      <td>4109112.73</td>\n",
       "      <td>6027.22</td>\n",
       "      <td>0.00</td>\n",
       "      <td>6027.21</td>\n",
       "      <td>0.01</td>\n",
       "    </tr>\n",
       "    <tr>\n",
       "      <th>2087</th>\n",
       "      <td>1</td>\n",
       "      <td>TRANSFER</td>\n",
       "      <td>283308.00</td>\n",
       "      <td>C13117403</td>\n",
       "      <td>5698159.80</td>\n",
       "      <td>5414851.79</td>\n",
       "      <td>C1286084959</td>\n",
       "      <td>4109113.65</td>\n",
       "      <td>4392421.64</td>\n",
       "      <td>283308.01</td>\n",
       "      <td>0.01</td>\n",
       "      <td>283307.99</td>\n",
       "      <td>0.02</td>\n",
       "    </tr>\n",
       "    <tr>\n",
       "      <th>2159</th>\n",
       "      <td>1</td>\n",
       "      <td>TRANSFER</td>\n",
       "      <td>16626.81</td>\n",
       "      <td>C1726715997</td>\n",
       "      <td>0.00</td>\n",
       "      <td>-16626.81</td>\n",
       "      <td>C1286084959</td>\n",
       "      <td>4392421.74</td>\n",
       "      <td>4409048.54</td>\n",
       "      <td>16626.81</td>\n",
       "      <td>0.00</td>\n",
       "      <td>16626.80</td>\n",
       "      <td>0.01</td>\n",
       "    </tr>\n",
       "    <tr>\n",
       "      <th>2227</th>\n",
       "      <td>1</td>\n",
       "      <td>TRANSFER</td>\n",
       "      <td>607537.17</td>\n",
       "      <td>C1082795132</td>\n",
       "      <td>0.00</td>\n",
       "      <td>-607537.17</td>\n",
       "      <td>C1286084959</td>\n",
       "      <td>4409048.72</td>\n",
       "      <td>5016585.89</td>\n",
       "      <td>607537.17</td>\n",
       "      <td>0.00</td>\n",
       "      <td>607537.17</td>\n",
       "      <td>0.00</td>\n",
       "    </tr>\n",
       "  </tbody>\n",
       "</table>\n",
       "</div>"
      ],
      "text/plain": [
       "      timestamp      type     amount     nameOrig  oldbalanceOrig  \\\n",
       "122           1  TRANSFER  583848.46  C1839168128            0.00   \n",
       "445           1  TRANSFER  176334.26   C169880779        45136.00   \n",
       "468           1  TRANSFER  373068.26  C1047934137        20034.00   \n",
       "568           1  TRANSFER  403418.39   C848097505      3834666.95   \n",
       "782           1  TRANSFER  222126.95   C870322840      6688712.64   \n",
       "803           1  TRANSFER  317393.38  C1197721383      8906617.38   \n",
       "852           1  TRANSFER   18288.91  C1049590050            0.00   \n",
       "973           1  TRANSFER  483544.30   C593447952            0.00   \n",
       "1016          1  TRANSFER  607616.73  C1267042315            0.00   \n",
       "1410          1  TRANSFER  789419.02   C883678948            0.00   \n",
       "1593          1  TRANSFER  128022.19  C1028472807      7430051.50   \n",
       "1722          1  TRANSFER    6027.22   C986944742       277100.00   \n",
       "2087          1  TRANSFER  283308.00    C13117403      5698159.80   \n",
       "2159          1  TRANSFER   16626.81  C1726715997            0.00   \n",
       "2227          1  TRANSFER  607537.17  C1082795132            0.00   \n",
       "\n",
       "      newbalanceOrig     nameDest  oldbalanceDest  newbalanceDest  amountOrig  \\\n",
       "122       -583848.46  C1286084959            0.30       583848.76   583848.46   \n",
       "445       -131198.26  C1286084959       583849.59       760183.84   176334.26   \n",
       "468       -353034.26  C1286084959       760183.94      1133252.20   373068.26   \n",
       "568       3431248.56  C1286084959      1133252.45      1536670.83   403418.39   \n",
       "782       6466585.69  C1286084959      1536671.42      1758798.35   222126.95   \n",
       "803       8589224.00  C1286084959      1758798.42      2076191.79   317393.38   \n",
       "852        -18288.92  C1286084959      2076191.95      2094480.85    18288.92   \n",
       "973       -483544.30  C1286084959      2094481.24      2578025.54   483544.30   \n",
       "1016      -607616.73  C1286084959      2578025.67      3185642.40   607616.73   \n",
       "1410      -789419.02  C1286084959      3185643.42      3975062.44   789419.02   \n",
       "1593      7302029.31  C1286084959      3975062.98      4103085.17   128022.19   \n",
       "1722       271072.78  C1286084959      4103085.52      4109112.73     6027.22   \n",
       "2087      5414851.79  C1286084959      4109113.65      4392421.64   283308.01   \n",
       "2159       -16626.81  C1286084959      4392421.74      4409048.54    16626.81   \n",
       "2227      -607537.17  C1286084959      4409048.72      5016585.89   607537.17   \n",
       "\n",
       "      difamountOrig  amountDest  difamountOD  \n",
       "122            0.00   583848.46         0.00  \n",
       "445            0.00   176334.25         0.01  \n",
       "468            0.00   373068.26         0.00  \n",
       "568            0.00   403418.38         0.01  \n",
       "782            0.00   222126.93         0.02  \n",
       "803            0.00   317393.37         0.01  \n",
       "852            0.01    18288.90         0.02  \n",
       "973            0.00   483544.30         0.00  \n",
       "1016           0.00   607616.73         0.00  \n",
       "1410           0.00   789419.02         0.00  \n",
       "1593           0.00   128022.19         0.00  \n",
       "1722           0.00     6027.21         0.01  \n",
       "2087           0.01   283307.99         0.02  \n",
       "2159           0.00    16626.80         0.01  \n",
       "2227           0.00   607537.17         0.00  "
      ]
     },
     "execution_count": 245,
     "metadata": {
      "tags": []
     },
     "output_type": "execute_result"
    }
   ],
   "source": [
    "ddd = pd.DataFrame(pd.value_counts(incon_1.nameDest))\n",
    "dddDest = ddd.sort_values(\"nameDest\", ascending=False)\n",
    "print(dddDest.head())\n",
    "df[(df[\"nameDest\"] == \"C1286084959\")].head(n = 15)"
   ]
  },
  {
   "cell_type": "code",
   "execution_count": null,
   "metadata": {
    "colab": {},
    "colab_type": "code",
    "id": "V-sOPBGYetTl"
   },
   "outputs": [],
   "source": []
  }
 ],
 "metadata": {
  "colab": {
   "name": "Analysis_Inconsistencies_Fraud_Lab1.ipynb",
   "provenance": []
  },
  "kernelspec": {
   "display_name": "Python 3",
   "language": "python",
   "name": "python3"
  },
  "language_info": {
   "codemirror_mode": {
    "name": "ipython",
    "version": 3
   },
   "file_extension": ".py",
   "mimetype": "text/x-python",
   "name": "python",
   "nbconvert_exporter": "python",
   "pygments_lexer": "ipython3",
   "version": "3.7.4"
  }
 },
 "nbformat": 4,
 "nbformat_minor": 4
}
